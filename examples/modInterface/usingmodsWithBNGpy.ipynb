{
 "metadata": {
  "language_info": {
   "codemirror_mode": {
    "name": "ipython",
    "version": 3
   },
   "file_extension": ".py",
   "mimetype": "text/x-python",
   "name": "python",
   "nbconvert_exporter": "python",
   "pygments_lexer": "ipython3",
   "version": "3.8.6-final"
  },
  "orig_nbformat": 2,
  "kernelspec": {
   "name": "Python 3.8.6 64-bit ('bng')",
   "display_name": "Python 3.8.6 64-bit ('bng')",
   "metadata": {
    "interpreter": {
     "hash": "c74b756d0728a8af4513004bc68561ba9d13b4a385434128432f1a1d5c5d10b0"
    }
   }
  }
 },
 "nbformat": 4,
 "nbformat_minor": 2,
 "cells": [
  {
   "source": [
    "# Overview\n",
    "\n",
    "This tutorial shows you how the library interacts with custom mods. To do so we create a generic mod that runs code on the vehicle and game engine side.\n",
    "\n",
    "In this tutorial we differentiate between mod and lua module:\n",
    "\n",
    "mod - refers to a collection of files that change the behavior of the game (see the zip file)\n",
    "\n",
    "lua module - refers to a lua 'library' that has a global name containing a table \n",
    "\n",
    "\n",
    "## Setup\n",
    "\n",
    "These are the usual imports to create a simple scenario. As the point is to show the mod support, nothing is happening in the scenario. The mod only prints some text to the console, so take a look at the console or the log file you can find in \"~\\Documents\\BeamNG.research\". Note that the console only flushes the last line to the log file if another console output line is generated.\n",
    "\n"
   ],
   "cell_type": "markdown",
   "metadata": {}
  },
  {
   "cell_type": "code",
   "execution_count": 1,
   "metadata": {},
   "outputs": [],
   "source": [
    "import os\n",
    "import zipfile\n",
    "from pathlib import Path\n",
    "\n",
    "from beamngpy import BeamNGpy, Scenario, Vehicle, setup_logging"
   ]
  },
  {
   "cell_type": "code",
   "execution_count": 2,
   "metadata": {},
   "outputs": [
    {
     "output_type": "stream",
     "name": "stderr",
     "text": [
      "2020-10-19 15:24:10,682 INFO     Started BeamNGpy logging.\n",
      "2020-10-19 15:24:10,685 DEBUG    Determined BeamNG.* binary to be: C:\\Users\\Smeik\\BeamNG\\game\\Bin64\\BeamNG.drive.x64.exe\n"
     ]
    }
   ],
   "source": [
    "setup_logging()\n",
    "beamng = BeamNGpy('localhost', 64256)\n",
    "scenario = Scenario('smallgrid', \n",
    "                    \"On how to use custom mods\")\n",
    "vehicle = Vehicle('ego_vehicle', model='etk800', licence='AI', extensions=[\"vehicleEngineCode\"])\n",
    "scenario.add_vehicle(vehicle, pos=(0,0,0), rot_quat=(0, 0, 1, 0))\n",
    "scenario.make(beamng)"
   ]
  },
  {
   "source": [
    "## Creating a Simple Mod\n",
    "\n",
    "Mods can be installed by creating a zip directory in the \".../Documents/BeamNG.reasearch/mods/\" folder. They have to recreate the exact same file structure as you find in the game directory in \"BeamNG.research.vX.X.X.X/lua\".\n",
    "\n",
    "What happens here is that the two lua files in the BeamNGpy directory are zipped into a mod."
   ],
   "cell_type": "markdown",
   "metadata": {}
  },
  {
   "cell_type": "code",
   "execution_count": 3,
   "metadata": {},
   "outputs": [
    {
     "output_type": "stream",
     "name": "stderr",
     "text": [
      "2020-10-19 15:24:11,640 WARNING  c:\\Users\\Smeik\\BeamNGpy\\bng\\lib\\site-packages\\ipykernel\\ipkernel.py:287: DeprecationWarning: `should_run_async` will not call `transform_cell` automatically in the future. Please pass the result to `transformed_cell` argument and any exception that happen during thetransform in `preprocessing_exc_tuple` in IPython 7.17 and above.\n  and should_run_async(code)\n\n"
     ]
    }
   ],
   "source": [
    "# setting up mod\n",
    "myModPath = beamng.user / 'mods' / 'genericResearchMod.zip' \n",
    "geCode = 'gameEngineCode.lua'\n",
    "zipGEpath = str(Path('lua') / 'ge' / 'extensions' / 'util' / geCode)\n",
    "veCode = 'vehicleEngineCode.lua'\n",
    "zipVEpath = str(Path('lua') / 'vehicle' / 'extensions' / veCode)\n",
    "localDir = Path(os.path.abspath('.'))\n",
    "with zipfile.ZipFile(str(myModPath), 'w') as ziph:\n",
    "    ziph.write(localDir / geCode, arcname=zipGEpath)\n",
    "    ziph.write(localDir / veCode, arcname=zipVEpath)"
   ]
  },
  {
   "source": [
    "## Testing the mod\n",
    "\n",
    "To test the mod we start BeamNG.research and give the python BeamNG class the location of the gameengine mod within the \"genericResearchMod.zip/lua/ge/extensions/\" directory. This is necessary to register the file as its own lua module within the game.\n",
    "\n",
    "After registration, it is available as util_gameEngineCode within the game - try typing `dump(util_gameEngineCode)` in the game's command prompt"
   ],
   "cell_type": "markdown",
   "metadata": {}
  },
  {
   "cell_type": "code",
   "execution_count": 4,
   "metadata": {},
   "outputs": [
    {
     "output_type": "stream",
     "name": "stderr",
     "text": [
      "2020-10-19 15:24:13,594 INFO     Opening BeamNPy instance...\n",
      "2020-10-19 15:24:13,606 INFO     Started BeamNGpy server on localhost:64256\n",
      "2020-10-19 15:24:13,608 DEBUG    Starting BeamNG process...\n",
      "2020-10-19 15:24:24,713 DEBUG    Connection established. Awaiting \"hello\"...\n",
      "2020-10-19 15:24:24,715 INFO     Started BeamNGpy communicating on ('127.0.0.1', 61335)\n",
      "2020-10-19 15:24:36,053 DEBUG    Starting vehicle server for V:ego_vehicle on: localhost:64257\n"
     ]
    }
   ],
   "source": [
    "bng = beamng.open(extensions=[\"util/gameEngineCode\"])\n",
    "bng.load_scenario(scenario)\n",
    "bng.start_scenario()"
   ]
  },
  {
   "source": [
    "## How to Call Lua Module Functions\n",
    "\n",
    "BeamNG.research and BeamNGpy communicate via sockets. \n",
    "Function parameters are send with the help of python dicitonaries that are available as lua tables in the game. \n",
    "The mini mod from this tutorial follows the convention the BeamNGpy library established: Every value for the 'type' key helps identifying the appropriate handler, which for 'Foo' is expected to be 'handleFoo'.\n",
    "The checkmessage function in researchGE.lua and researchVE.lua checks whether a corresponding function is locally available and, if not, calls the 'onSocketMessage' hook for every extension. "
   ],
   "cell_type": "markdown",
   "metadata": {}
  },
  {
   "cell_type": "code",
   "execution_count": 5,
   "metadata": {},
   "outputs": [],
   "source": [
    "# executing 'handleFoo' from gameEngineCode\n",
    "data = dict(type='Foo', someName = 'YourName')\n",
    "bng.send(data)\n",
    "# executing 'handleBar' from vehicleEngineCode\n",
    "data = dict(type='Bar', text = 'lorem ipsum...' )\n",
    "vehicle.send(data)"
   ]
  },
  {
   "source": [
    "### Can't see anything special?\n",
    "\n",
    "If you have trouble finding the messages in the log file or command prompt, search for 'gameEngineCode' or 'vehicleEngineCode'. These are the respective log tags of the modules."
   ],
   "cell_type": "markdown",
   "metadata": {}
  },
  {
   "cell_type": "code",
   "execution_count": 6,
   "metadata": {},
   "outputs": [
    {
     "output_type": "stream",
     "name": "stderr",
     "text": [
      "2020-10-19 15:25:44,637 INFO     Closing BeamNGpy instance...\n",
      "2020-10-19 15:25:44,638 DEBUG    Killing BeamNG process...\n",
      "2020-10-19 15:25:45,022 WARNING  C:\\Program Files\\WindowsApps\\PythonSoftwareFoundation.Python.3.8_3.8.1776.0_x64__qbz5n2kfra8p0\\lib\\subprocess.py:942: ResourceWarning: subprocess 14448 is still running\n",
      "  _warn(\"subprocess %s is still running\" % self.pid,\n",
      "\n"
     ]
    }
   ],
   "source": [
    "bng.close()"
   ]
  }
 ]
}